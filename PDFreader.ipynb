{
 "cells": [
  {
   "cell_type": "code",
   "execution_count": 811,
   "id": "440223fd-47ac-40a0-9ec7-a3bc9b68c1de",
   "metadata": {},
   "outputs": [],
   "source": [
    "%%capture --no-stderr\n",
    "%pip install -U langchain \n",
    "%pip install pypdf\n",
    "%pip install faiss-cpu chroma\n",
    "%pip install tiktoken\n",
    "%pip install langgraph\n",
    "%pip install langchain-google-genai"
   ]
  },
  {
   "cell_type": "code",
   "execution_count": 812,
   "id": "122a9e0b-019e-47c1-876c-abec9db794ae",
   "metadata": {},
   "outputs": [],
   "source": [
    "from langchain.document_loaders import PyPDFLoader\n",
    "from langchain.schema import Document\n",
    "from langchain.vectorstores import FAISS\n",
    "from langchain_google_genai import ChatGoogleGenerativeAI\n",
    "from langchain_google_genai import GoogleGenerativeAIEmbeddings\n",
    "from langchain.prompts import PromptTemplate\n",
    "from langchain.tools import Tool\n",
    "from langchain.text_splitter import RecursiveCharacterTextSplitter\n",
    "from langgraph.graph import StateGraph\n",
    "from langgraph.prebuilt import ToolNode\n",
    "from typing_extensions import TypedDict, List\n",
    "from langchain.chains import LLMChain"
   ]
  },
  {
   "cell_type": "code",
   "execution_count": 813,
   "id": "5d9c1c96-5fff-4897-9529-9b8b15bcc4b4",
   "metadata": {},
   "outputs": [],
   "source": [
    "import os, getpass\n",
    "def _set_env(var: str):\n",
    "    if not os.environ.get(var):\n",
    "        os.environ[var] = getpass.getpass(f\"{var}: \")\n",
    "\n",
    "_set_env(\"GOOGLE_API_KEY\")"
   ]
  },
  {
   "cell_type": "code",
   "execution_count": 814,
   "id": "990cc437-e416-4e95-82c6-aa7f2db1cb79",
   "metadata": {},
   "outputs": [],
   "source": [
    "pdfreader = PyPDFLoader('ExamForm.PDF')\n",
    "text = \"\"\n",
    "pages = pdfreader.load_and_split()\n",
    "for page in pages:\n",
    "    text += page.page_content"
   ]
  },
  {
   "cell_type": "code",
   "execution_count": 815,
   "id": "66048cfb-d66e-43b8-91b3-9c08f90a5d7a",
   "metadata": {},
   "outputs": [
    {
     "name": "stdout",
     "output_type": "stream",
     "text": [
      "Instructions to the Candidate:\n",
      "1.This Exam form along with fee amount should be submitted to the concerned college .\n",
      "2.Repeater students should attach attested true copy of the latest mark sheet alongwith this form.\n",
      "3.This form will be considered \n",
      "ONLY AFTER APPROVAL \n",
      "from the concern College Login. \n",
      "To,\n",
      "Director, \n",
      "Board of Examination & Evaluation, Savitribai Phule Pune University, Pune-\n",
      "411\n",
      " \n",
      "007\n",
      ".\n",
      "Sir/Madam, \n",
      "I request permission to present myself at the examination courses, mentioned below .\n"
     ]
    }
   ],
   "source": [
    "documents = [Document(page_content=text)]\n",
    "text_splitter = RecursiveCharacterTextSplitter(chunk_size=500, chunk_overlap=0)\n",
    "docs= text_splitter.split_documents(documents)\n",
    "print(docs[0].page_content)"
   ]
  },
  {
   "cell_type": "code",
   "execution_count": 816,
   "id": "65c567cb-7049-4074-8288-59df02fe79ff",
   "metadata": {},
   "outputs": [],
   "source": [
    "embeddings = GoogleGenerativeAIEmbeddings(model=\"models/text-embedding-004\")\n",
    "vector_db = FAISS.from_documents(docs, embeddings)\n",
    "retriever = vector_db.as_retriever()\n",
    "llm = ChatGoogleGenerativeAI(model=\"gemini-1.5-pro\")"
   ]
  },
  {
   "cell_type": "code",
   "execution_count": 888,
   "id": "eb381108-8d13-44c6-91dc-36b4e8cc1715",
   "metadata": {},
   "outputs": [],
   "source": [
    "def expand_query(query: str) -> str:\n",
    "    return query\n",
    "def search_vector_db(query: str, k: int = 5) -> List[Document]:\n",
    "    return vector_db.similarity_search(query, k=k)\n",
    "def summarize_context(context: str) -> str:\n",
    "    prompt=PromptTemplate(input_variables=['context'],\n",
    "                          template=\"Summarize the following content to provide a concise overview:{context}\")\n",
    "    llm_chain=LLMChain(llm=llm,prompt=prompt)\n",
    "    summary=llm_chain.run({'context':context})\n",
    "    # summary=llm()\n",
    "    return summary\n",
    "def generate_response(context: str, question: str) -> str:\n",
    "    prompt=PromptTemplate(input_variables=['context','question'],template=\"\"\"\n",
    "    You are a helpful assistant acting as a user guide\n",
    "    ----------------\n",
    "    Question:\n",
    "    {question}\n",
    "    ----------------\n",
    "    Context:\n",
    "    {context}\n",
    "    ----------------\n",
    "    Answer:\n",
    "    \"\"\")\n",
    "    llm_chain=LLMChain(llm=llm,prompt=prompt)\n",
    "    response=llm_chain.run({'context':context,'question':question})\n",
    "    return response.strip()\n",
    "\n",
    "expand_tool = Tool(\n",
    "    name= \"Expand Query\",\n",
    "    func= expand_query,\n",
    "    description= \"Enhance query with additional terms or context\"\n",
    ")\n",
    "summarize_tool = Tool(\n",
    "    name= \"Summarize Context\",\n",
    "    func= summarize_context,\n",
    "    description= \"Provide summary of the retrieved context\"\n",
    ")\n",
    "search_tool = Tool(\n",
    "    name= \"Search Vector DB\",\n",
    "    func= search_vector_db,\n",
    "    description= \"Search vector database for relevant documents\"\n",
    ")\n",
    "generate_tool = Tool(\n",
    "    name= \"Generate Response\",\n",
    "    func= generate_response,\n",
    "    description= \"Generate response based on question and context\"\n",
    ")"
   ]
  },
  {
   "cell_type": "code",
   "execution_count": 890,
   "id": "5d74ff0f-6eaf-450e-b066-4cbdf191c0ac",
   "metadata": {},
   "outputs": [],
   "source": [
    "class State(TypedDict):\n",
    "    question: str\n",
    "    context: List[Document]\n",
    "    response: str\n",
    "    expanded_query: str\n",
    "    summarized_context: str\n",
    "#node definition\n",
    "def expand(state: State) -> State:\n",
    "    state[\"expanded_query\"]= expand_tool.func(state[\"question\"])\n",
    "    print(f\"Expanded Query: {state['expanded_query']}\")\n",
    "    return state\n",
    "\n",
    "def search(state: State) -> State:\n",
    "    results= search_tool.func(state[\"expanded_query\"])\n",
    "    state[\"context\"]= results\n",
    "    print(f\"Retrieved Documents: {[doc.page_content[:100] for doc in results]}\")\n",
    "    return state\n",
    "\n",
    "def summarize(state: State) -> State:\n",
    "    context = \" \".join(doc.page_content for doc in state[\"context\"]) if state[\"context\"] else \"\"\n",
    "    state[\"summarized_context\"]= summarize_tool.func(context)\n",
    "    print(f\"Summarized context: {state['summarized_context']}\")\n",
    "    return state\n",
    "\n",
    "def generate(state: State) -> State:\n",
    "    response= generate_tool.func(state[\"summarized_context\"], state[\"question\"])\n",
    "    state[\"response\"]= response\n",
    "    print(f\"Generated response: {state['response']}\")\n",
    "    return state\n",
    "\n",
    "workflow = StateGraph(State)\n",
    "workflow.add_node(\"Expand\", expand)\n",
    "workflow.add_node(\"Search\", search)\n",
    "workflow.add_node(\"Summarize\", summarize)\n",
    "workflow.add_node(\"Generate\", generate)\n",
    "\n",
    "workflow.set_entry_point(\"Expand\")\n",
    "workflow.add_edge(\"Expand\", \"Search\")\n",
    "workflow.add_edge(\"Search\", \"Summarize\")\n",
    "workflow.add_edge(\"Summarize\", \"Generate\")\n",
    "workflow.set_finish_point(\"Generate\")\n",
    "\n",
    "graph=workflow.compile()"
   ]
  },
  {
   "cell_type": "code",
   "execution_count": 892,
   "id": "c675b299-c8b4-4113-8ea2-7bb6675fa0a1",
   "metadata": {},
   "outputs": [
    {
     "data": {
      "image/png": "[encoded data removed]",
      "text/plain": [
       "<IPython.core.display.Image object>"
      ]
     },
     "metadata": {},
     "output_type": "display_data"
    }
   ],
   "source": [
    "from IPython.display import Image, display\n",
    "display(Image(graph.get_graph().draw_mermaid_png()))"
   ]
  },
  {
   "cell_type": "code",
   "execution_count": 900,
   "id": "6d4001f2-b361-4c39-8ae6-48a00cdd0f5f",
   "metadata": {},
   "outputs": [
    {
     "name": "stdout",
     "output_type": "stream",
     "text": [
      "Expanded Query: Essential details of candidate\n",
      "Retrieved Documents: ['Place :_______________ Date : ________________                                                      ', \"1.Personal Details:\\nName of the Applicant\\nTANMAY S GAVASKAR\\nName of the Applicant's Mother\\nARUNA S G\", 'I shall not request for special concession such as change in the time and/or day fixed for the Unive', 'Instructions to the Candidate:\\n1.This Exam form along with fee amount should be submitted to the con', 'Project Fee/Dissertation\\n0\\nEVS Fee\\n0\\nInternal Marks Fee\\n0\\nDepartmental Fee\\n0\\nTranscript Fee\\n0\\nLate F']\n",
      "Summarized context: Tanmay S Gavaskar (PRN: 72264234C, Eligibility No: 12022239447) has applied for the T.E.(2019 PAT.)(ELECTRONICS & TELEC.) examination at Savitribai Phule Pune University.  He has declared understanding of the syllabus and responsibility for accurate form completion. The total fee due is 1000.  The form requires principal's signature and college approval before being considered.  Contact details for Tanmay include tanmaygavaskar@gmail.com and 9496118962. He resides in Ravet, Pune.\n",
      "Generated response: **Candidate Details for T.E. Examination (2019 PAT.)**\n",
      "\n",
      "* **Name:** Tanmay S Gavaskar\n",
      "* **PRN:** 72264234C\n",
      "* **Eligibility Number:** 12022239447\n",
      "* **Examination:** T.E.(2019 PAT.)(ELECTRONICS & TELEC.)\n",
      "* **University:** Savitribai Phule Pune University\n",
      "* **Fee Due:** 1000\n",
      "* **Address:** Ravet, Pune\n",
      "* **Email:** tanmaygavaskar@gmail.com\n",
      "* **Phone:** 9496118962\n",
      "\n",
      "**Important Notes:**\n",
      "\n",
      "* Candidate has declared understanding of the syllabus and responsibility for accurate form completion.\n",
      "* Form requires principal's signature and college approval for submission.\n"
     ]
    }
   ],
   "source": [
    "def run_graph(question: str):\n",
    "    result= graph.invoke({\"question\": question})\n",
    "    return result[\"response\"]\n",
    "\n",
    "question= \"Essential details of candidate\"\n",
    "response= run_graph(question)"
   ]
  },
  {
   "cell_type": "code",
   "execution_count": null,
   "id": "6ce5dfc9-90d3-4fa0-afe2-4ee3cce31d41",
   "metadata": {},
   "outputs": [],
   "source": []
  }
 ],
 "metadata": {
  "kernelspec": {
   "display_name": "Python 3 (ipykernel)",
   "language": "python",
   "name": "python3"
  },
  "language_info": {
   "codemirror_mode": {
    "name": "ipython",
    "version": 3
   },
   "file_extension": ".py",
   "mimetype": "text/x-python",
   "name": "python",
   "nbconvert_exporter": "python",
   "pygments_lexer": "ipython3",
   "version": "3.12.4"
  }
 },
 "nbformat": 4,
 "nbformat_minor": 5
}
